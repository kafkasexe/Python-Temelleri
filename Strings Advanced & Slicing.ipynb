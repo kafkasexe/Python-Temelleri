{
 "cells": [
  {
   "cell_type": "code",
   "execution_count": 36,
   "id": "f00d7934-498c-43ce-80a6-3824aded9fbd",
   "metadata": {},
   "outputs": [],
   "source": [
    "##STRİNGSADVANCED & SLİCİNG"
   ]
  },
  {
   "cell_type": "code",
   "execution_count": 38,
   "id": "c0b24cef-9740-4a93-95f3-6c8655413d8c",
   "metadata": {},
   "outputs": [],
   "source": [
    "my_string = '1234567890' #Değer Atandı"
   ]
  },
  {
   "cell_type": "code",
   "execution_count": 42,
   "id": "f6754a24-a892-4902-aff5-006b809dcc61",
   "metadata": {},
   "outputs": [
    {
     "data": {
      "text/plain": [
       "'1234567890'"
      ]
     },
     "execution_count": 42,
     "metadata": {},
     "output_type": "execute_result"
    }
   ],
   "source": [
    "my_string #Atadağımız Değişkeni Sorguluyoruz"
   ]
  },
  {
   "cell_type": "code",
   "execution_count": 46,
   "id": "6a5a6fb4-41b3-47df-8391-110d164d358f",
   "metadata": {},
   "outputs": [
    {
     "data": {
      "text/plain": [
       "'1'"
      ]
     },
     "execution_count": 46,
     "metadata": {},
     "output_type": "execute_result"
    }
   ],
   "source": [
    "my_string [0] #1. Değişkeni Göster"
   ]
  },
  {
   "cell_type": "code",
   "execution_count": 50,
   "id": "47f32e6f-7545-4fc3-a0fc-40b25fff6a8b",
   "metadata": {},
   "outputs": [
    {
     "data": {
      "text/plain": [
       "'0'"
      ]
     },
     "execution_count": 50,
     "metadata": {},
     "output_type": "execute_result"
    }
   ],
   "source": [
    "my_string [-1] #Sonuncu Değişkeni Sorgula"
   ]
  },
  {
   "cell_type": "code",
   "execution_count": 54,
   "id": "b18b371b-dc41-4a24-9e51-eca09f0d9f81",
   "metadata": {},
   "outputs": [
    {
     "data": {
      "text/plain": [
       "'34567890'"
      ]
     },
     "execution_count": 54,
     "metadata": {},
     "output_type": "execute_result"
    }
   ],
   "source": [
    "my_string [2:] #2'den İtibaren Yazdır"
   ]
  },
  {
   "cell_type": "code",
   "execution_count": 58,
   "id": "50c6b28e-93bb-4e80-ad78-70aebc86d988",
   "metadata": {},
   "outputs": [
    {
     "data": {
      "text/plain": [
       "'12'"
      ]
     },
     "execution_count": 58,
     "metadata": {},
     "output_type": "execute_result"
    }
   ],
   "source": [
    "my_string [:2] #2. Değişkene Kadar Sorgula"
   ]
  },
  {
   "cell_type": "code",
   "execution_count": 62,
   "id": "141f3739-d75d-4409-8bbf-3b7b34a3e46b",
   "metadata": {},
   "outputs": [
    {
     "data": {
      "text/plain": [
       "'34'"
      ]
     },
     "execution_count": 62,
     "metadata": {},
     "output_type": "execute_result"
    }
   ],
   "source": [
    "my_string [2:4] #2. Değişkenden Başla 4. Değişkende Dur"
   ]
  },
  {
   "cell_type": "code",
   "execution_count": 64,
   "id": "ee2eb797-7c06-4bf1-b64b-f0b8c5e7334b",
   "metadata": {},
   "outputs": [
    {
     "data": {
      "text/plain": [
       "'13579'"
      ]
     },
     "execution_count": 64,
     "metadata": {},
     "output_type": "execute_result"
    }
   ],
   "source": [
    "my_string [::2] "
   ]
  }
 ],
 "metadata": {
  "kernelspec": {
   "display_name": "Python 3 (ipykernel)",
   "language": "python",
   "name": "python3"
  },
  "language_info": {
   "codemirror_mode": {
    "name": "ipython",
    "version": 3
   },
   "file_extension": ".py",
   "mimetype": "text/x-python",
   "name": "python",
   "nbconvert_exporter": "python",
   "pygments_lexer": "ipython3",
   "version": "3.12.4"
  }
 },
 "nbformat": 4,
 "nbformat_minor": 5
}
