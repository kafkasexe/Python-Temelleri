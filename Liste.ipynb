{
 "cells": [
  {
   "cell_type": "markdown",
   "id": "91301ab1-5cdc-42ab-a02a-c531c4683773",
   "metadata": {},
   "source": [
    "##immutability"
   ]
  },
  {
   "cell_type": "code",
   "execution_count": 4,
   "id": "647cfc96-8087-4c63-87f8-dbed9a173718",
   "metadata": {},
   "outputs": [],
   "source": [
    "my_list = [1,2,3]"
   ]
  },
  {
   "cell_type": "code",
   "execution_count": 10,
   "id": "e2bf9650-e66b-482a-8d27-307291181ed6",
   "metadata": {},
   "outputs": [],
   "source": [
    "my_list[0] = 5 #mutable (Değiştirdik)"
   ]
  },
  {
   "cell_type": "code",
   "execution_count": 8,
   "id": "307d56f0-b8eb-4c60-8c56-165f45d6cab3",
   "metadata": {},
   "outputs": [
    {
     "data": {
      "text/plain": [
       "[5, 2, 3]"
      ]
     },
     "execution_count": 8,
     "metadata": {},
     "output_type": "execute_result"
    }
   ],
   "source": [
    "my_list "
   ]
  },
  {
   "cell_type": "code",
   "execution_count": 12,
   "id": "580a26e9-d704-4b7d-8870-8fe3f5e3fdc9",
   "metadata": {},
   "outputs": [],
   "source": [
    "my_list[2] = 6"
   ]
  },
  {
   "cell_type": "code",
   "execution_count": 14,
   "id": "17107145-cb3b-4be1-9f97-e81e922a2696",
   "metadata": {},
   "outputs": [
    {
     "data": {
      "text/plain": [
       "[5, 2, 6]"
      ]
     },
     "execution_count": 14,
     "metadata": {},
     "output_type": "execute_result"
    }
   ],
   "source": [
    "my_list"
   ]
  },
  {
   "cell_type": "code",
   "execution_count": 20,
   "id": "bf9e3566-d438-4d0f-86e8-6c58591f4e6e",
   "metadata": {},
   "outputs": [],
   "source": [
    "my_list.append(7) # Listeme Sayı Eklemek İçin"
   ]
  },
  {
   "cell_type": "code",
   "execution_count": 18,
   "id": "27bd47c2-8d14-45b9-ae4e-d12c05e7d3b3",
   "metadata": {},
   "outputs": [
    {
     "data": {
      "text/plain": [
       "[5, 2, 6, 7]"
      ]
     },
     "execution_count": 18,
     "metadata": {},
     "output_type": "execute_result"
    }
   ],
   "source": [
    "my_list"
   ]
  },
  {
   "cell_type": "code",
   "execution_count": 22,
   "id": "9f8b58da-b62a-4032-864a-06c5cb996cfb",
   "metadata": {},
   "outputs": [],
   "source": [
    "my_string = 'larse'"
   ]
  },
  {
   "cell_type": "code",
   "execution_count": 26,
   "id": "475ccf89-2495-40a4-9969-2513e3f7f6d8",
   "metadata": {},
   "outputs": [
    {
     "data": {
      "text/plain": [
       "'Larse'"
      ]
     },
     "execution_count": 26,
     "metadata": {},
     "output_type": "execute_result"
    }
   ],
   "source": [
    "my_string.capitalize() #Baş Harfi Büyük Yapma"
   ]
  },
  {
   "cell_type": "code",
   "execution_count": 40,
   "id": "c1ad13fc-8055-46e2-8ea8-5b85cfefdf0d",
   "metadata": {},
   "outputs": [
    {
     "data": {
      "text/plain": [
       "6"
      ]
     },
     "execution_count": 40,
     "metadata": {},
     "output_type": "execute_result"
    }
   ],
   "source": [
    "my_list.pop() #Son İndexi Siler"
   ]
  },
  {
   "cell_type": "code",
   "execution_count": 38,
   "id": "1354bfa4-680a-4167-983a-b33d3408d885",
   "metadata": {},
   "outputs": [
    {
     "data": {
      "text/plain": [
       "[5, 2, 6]"
      ]
     },
     "execution_count": 38,
     "metadata": {},
     "output_type": "execute_result"
    }
   ],
   "source": [
    "my_list"
   ]
  },
  {
   "cell_type": "code",
   "execution_count": 42,
   "id": "5cd29287-a57a-460e-84a5-0d60a0d508e3",
   "metadata": {},
   "outputs": [],
   "source": [
    "my_mixed_list = [1,2,'a','bhf']"
   ]
  },
  {
   "cell_type": "code",
   "execution_count": 46,
   "id": "33feb4ed-f244-465a-947f-3c08c68e4d7a",
   "metadata": {},
   "outputs": [
    {
     "data": {
      "text/plain": [
       "1"
      ]
     },
     "execution_count": 46,
     "metadata": {},
     "output_type": "execute_result"
    }
   ],
   "source": [
    "my_mixed_list [0]"
   ]
  },
  {
   "cell_type": "code",
   "execution_count": 48,
   "id": "00dadd4d-6ba5-4118-8425-2f63e6895ca3",
   "metadata": {},
   "outputs": [
    {
     "data": {
      "text/plain": [
       "'bhf'"
      ]
     },
     "execution_count": 48,
     "metadata": {},
     "output_type": "execute_result"
    }
   ],
   "source": [
    "my_mixed_list [-1]"
   ]
  },
  {
   "cell_type": "code",
   "execution_count": 50,
   "id": "1eb0b723-f780-4225-b2aa-fc73a664956f",
   "metadata": {},
   "outputs": [],
   "source": [
    "my_list_1 = ['a','b','c']"
   ]
  },
  {
   "cell_type": "code",
   "execution_count": 52,
   "id": "218b1b82-6cbe-4f4d-a9f2-896dac688c90",
   "metadata": {},
   "outputs": [],
   "source": [
    "my_list_2 = ['d','e','f']"
   ]
  },
  {
   "cell_type": "code",
   "execution_count": 56,
   "id": "76f5aa66-8ce2-4a8c-a430-14c89fff0122",
   "metadata": {},
   "outputs": [],
   "source": [
    "my_list_3 = my_list_1 + my_list_2 "
   ]
  },
  {
   "cell_type": "code",
   "execution_count": 58,
   "id": "7ce2268f-e982-47e2-bc87-7edb1a24a282",
   "metadata": {},
   "outputs": [
    {
     "data": {
      "text/plain": [
       "['a', 'b', 'c', 'd', 'e', 'f']"
      ]
     },
     "execution_count": 58,
     "metadata": {},
     "output_type": "execute_result"
    }
   ],
   "source": [
    "my_list_3"
   ]
  },
  {
   "cell_type": "code",
   "execution_count": 60,
   "id": "e774b08d-8efe-4492-85f6-3c21737bcfd8",
   "metadata": {},
   "outputs": [],
   "source": [
    "my_list_1.reverse()"
   ]
  },
  {
   "cell_type": "code",
   "execution_count": 62,
   "id": "7d7abdff-7040-4e48-8440-91c28a535c5e",
   "metadata": {},
   "outputs": [
    {
     "data": {
      "text/plain": [
       "['c', 'b', 'a']"
      ]
     },
     "execution_count": 62,
     "metadata": {},
     "output_type": "execute_result"
    }
   ],
   "source": [
    "my_list_1"
   ]
  },
  {
   "cell_type": "markdown",
   "id": "c75b537e-bc4f-4f76-b6e7-7e371c1df295",
   "metadata": {},
   "source": [
    "#nested list"
   ]
  },
  {
   "cell_type": "code",
   "execution_count": 65,
   "id": "1f60ad10-267b-4c9a-b328-37a9e74fcde7",
   "metadata": {},
   "outputs": [],
   "source": [
    "new_list = [1,4,'a']"
   ]
  },
  {
   "cell_type": "code",
   "execution_count": 69,
   "id": "c892578e-4245-4f80-b9b9-d2e92f5c4a90",
   "metadata": {},
   "outputs": [],
   "source": [
    "new_list = [1,4,'a',[3,'c']]"
   ]
  },
  {
   "cell_type": "code",
   "execution_count": 71,
   "id": "2f2e837c-bb41-4f81-a3ee-fdd1f6de8553",
   "metadata": {},
   "outputs": [
    {
     "data": {
      "text/plain": [
       "[1, 4, 'a', [3, 'c']]"
      ]
     },
     "execution_count": 71,
     "metadata": {},
     "output_type": "execute_result"
    }
   ],
   "source": [
    "new_list"
   ]
  },
  {
   "cell_type": "code",
   "execution_count": 77,
   "id": "9a166f70-a5b1-4e8d-ba50-742971282cfa",
   "metadata": {},
   "outputs": [
    {
     "data": {
      "text/plain": [
       "[3, 'c']"
      ]
     },
     "execution_count": 77,
     "metadata": {},
     "output_type": "execute_result"
    }
   ],
   "source": [
    "new_list [3]"
   ]
  },
  {
   "cell_type": "code",
   "execution_count": 79,
   "id": "f6590c1b-c46d-41e0-ba03-b0e3c6d8d30d",
   "metadata": {},
   "outputs": [],
   "source": [
    "nested_list = new_list [3]"
   ]
  },
  {
   "cell_type": "code",
   "execution_count": 83,
   "id": "62519aba-a921-4bd0-9ed4-a1d0323c75c5",
   "metadata": {},
   "outputs": [
    {
     "data": {
      "text/plain": [
       "[3, 'c']"
      ]
     },
     "execution_count": 83,
     "metadata": {},
     "output_type": "execute_result"
    }
   ],
   "source": [
    "nested_list"
   ]
  },
  {
   "cell_type": "code",
   "execution_count": 85,
   "id": "8917796e-08b6-4ade-ac94-970797c94a6e",
   "metadata": {},
   "outputs": [
    {
     "data": {
      "text/plain": [
       "[1, 4, 'a', [3, 'c']]"
      ]
     },
     "execution_count": 85,
     "metadata": {},
     "output_type": "execute_result"
    }
   ],
   "source": [
    "new_list"
   ]
  },
  {
   "cell_type": "code",
   "execution_count": 87,
   "id": "e3f5ea76-fdc1-4d4b-856e-b61d098abe7f",
   "metadata": {},
   "outputs": [
    {
     "data": {
      "text/plain": [
       "['a', [3, 'c']]"
      ]
     },
     "execution_count": 87,
     "metadata": {},
     "output_type": "execute_result"
    }
   ],
   "source": [
    "new_list[2:]"
   ]
  },
  {
   "cell_type": "code",
   "execution_count": 89,
   "id": "5ba29a70-9d5b-45cf-a17b-faa455cfa323",
   "metadata": {},
   "outputs": [
    {
     "data": {
      "text/plain": [
       "[1, 4]"
      ]
     },
     "execution_count": 89,
     "metadata": {},
     "output_type": "execute_result"
    }
   ],
   "source": [
    "new_list [:2]"
   ]
  },
  {
   "cell_type": "code",
   "execution_count": null,
   "id": "d3d509db-6bde-4d00-aa4e-0667503e1b7a",
   "metadata": {},
   "outputs": [],
   "source": []
  }
 ],
 "metadata": {
  "kernelspec": {
   "display_name": "Python 3 (ipykernel)",
   "language": "python",
   "name": "python3"
  },
  "language_info": {
   "codemirror_mode": {
    "name": "ipython",
    "version": 3
   },
   "file_extension": ".py",
   "mimetype": "text/x-python",
   "name": "python",
   "nbconvert_exporter": "python",
   "pygments_lexer": "ipython3",
   "version": "3.12.4"
  }
 },
 "nbformat": 4,
 "nbformat_minor": 5
}
