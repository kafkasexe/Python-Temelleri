{
 "cells": [
  {
   "cell_type": "code",
   "execution_count": 20,
   "id": "15fb112f-a479-4225-a219-79fad45fdbaa",
   "metadata": {},
   "outputs": [],
   "source": [
    "#İnteger : Tam Sayı\n",
    "#Floating : Onlu Sayı\n",
    "#String : Metinler\n",
    "#x = 10 : Değer Atama\n",
    "#r=input('Değer Giriniz'): Kullanıcıya değer girdirir\n",
    "#r_int=int(r):String'den İntegere Çevirir \n",
    "#type(): Değişken Sorgulama"
   ]
  },
  {
   "cell_type": "code",
   "execution_count": 2,
   "id": "f6047a87-103f-4f8e-bc30-9edbef4078e8",
   "metadata": {},
   "outputs": [],
   "source": [
    "x = 10 # x'e 10 İnteger Değerini Atadık"
   ]
  },
  {
   "cell_type": "code",
   "execution_count": 4,
   "id": "8f21b2f0-60a2-4326-998f-cb73567343fc",
   "metadata": {},
   "outputs": [],
   "source": [
    "y = 20.5 # y'ye 20.5 Floating Değerini Atadık"
   ]
  },
  {
   "cell_type": "code",
   "execution_count": null,
   "id": "174b53ce-19a2-4080-894e-2674d3170812",
   "metadata": {},
   "outputs": [],
   "source": [
    "r= input('Değer Giriniz') # Kullanıcıdan Değer Girmesini İstedik"
   ]
  },
  {
   "cell_type": "code",
   "execution_count": 12,
   "id": "08d98a67-ff91-4ae1-9e0a-70037059d067",
   "metadata": {},
   "outputs": [],
   "source": [
    "r_int=int(r) # Girilen Değeri String'den İnteger'a Çevirdik"
   ]
  },
  {
   "cell_type": "code",
   "execution_count": 14,
   "id": "1c9d3f31-09ba-4c95-be72-c2fa99c40c2b",
   "metadata": {},
   "outputs": [
    {
     "data": {
      "text/plain": [
       "int"
      ]
     },
     "execution_count": 14,
     "metadata": {},
     "output_type": "execute_result"
    }
   ],
   "source": [
    "type(r_int) # Değişken Sorguladık"
   ]
  },
  {
   "cell_type": "code",
   "execution_count": 16,
   "id": "9ff6898b-9beb-4523-a20f-22a41b7f40c5",
   "metadata": {},
   "outputs": [
    {
     "data": {
      "text/plain": [
       "45.5"
      ]
     },
     "execution_count": 16,
     "metadata": {},
     "output_type": "execute_result"
    }
   ],
   "source": [
    "x + y + r_int # Toplama Yaptık"
   ]
  },
  {
   "cell_type": "code",
   "execution_count": null,
   "id": "4712b49e-5289-4b16-bff2-df754bb910e6",
   "metadata": {},
   "outputs": [],
   "source": []
  }
 ],
 "metadata": {
  "kernelspec": {
   "display_name": "Python 3 (ipykernel)",
   "language": "python",
   "name": "python3"
  },
  "language_info": {
   "codemirror_mode": {
    "name": "ipython",
    "version": 3
   },
   "file_extension": ".py",
   "mimetype": "text/x-python",
   "name": "python",
   "nbconvert_exporter": "python",
   "pygments_lexer": "ipython3",
   "version": "3.12.4"
  }
 },
 "nbformat": 4,
 "nbformat_minor": 5
}
