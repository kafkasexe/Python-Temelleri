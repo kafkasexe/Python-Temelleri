{
 "cells": [
  {
   "cell_type": "code",
   "execution_count": 17,
   "id": "00fbac84-cefb-4d3a-9313-ea0155acb97b",
   "metadata": {},
   "outputs": [],
   "source": [
    "my_dictionary = {'key':'value'}"
   ]
  },
  {
   "cell_type": "code",
   "execution_count": 21,
   "id": "21ac0bc0-a605-442e-8b05-99e93cb9c9c4",
   "metadata": {},
   "outputs": [
    {
     "data": {
      "text/plain": [
       "'value'"
      ]
     },
     "execution_count": 21,
     "metadata": {},
     "output_type": "execute_result"
    }
   ],
   "source": [
    "my_dictionary ['key']"
   ]
  },
  {
   "cell_type": "code",
   "execution_count": 25,
   "id": "6cc3a5c9-3c03-4f61-8428-dde6c0ace3f9",
   "metadata": {},
   "outputs": [],
   "source": [
    "my_list = [100,200]"
   ]
  },
  {
   "cell_type": "code",
   "execution_count": 27,
   "id": "0507e7f3-28af-44d2-8bb4-1a67d850ca1e",
   "metadata": {},
   "outputs": [],
   "source": [
    "my_list_2 = ['run','swim']"
   ]
  },
  {
   "cell_type": "code",
   "execution_count": 29,
   "id": "89b083c3-65bc-4478-bd11-ed8b13ba75ba",
   "metadata": {},
   "outputs": [],
   "source": [
    "my_fitness_dictionary = {'run':100,'swim':200}"
   ]
  },
  {
   "cell_type": "code",
   "execution_count": 31,
   "id": "0beb6956-d90f-470b-b53c-8d97ce9a1eb2",
   "metadata": {},
   "outputs": [
    {
     "data": {
      "text/plain": [
       "100"
      ]
     },
     "execution_count": 31,
     "metadata": {},
     "output_type": "execute_result"
    }
   ],
   "source": [
    "my_fitness_dictionary ['run']"
   ]
  },
  {
   "cell_type": "code",
   "execution_count": 35,
   "id": "1390a0ba-c08b-405b-a478-31a735547364",
   "metadata": {},
   "outputs": [
    {
     "data": {
      "text/plain": [
       "200"
      ]
     },
     "execution_count": 35,
     "metadata": {},
     "output_type": "execute_result"
    }
   ],
   "source": [
    "my_fitness_dictionary ['swim']"
   ]
  },
  {
   "cell_type": "code",
   "execution_count": 37,
   "id": "5f62acda-950b-40dc-ab63-f987dcf23587",
   "metadata": {},
   "outputs": [],
   "source": [
    "my_dictionary_2 = {'key1':1,'key2':2,'key3':'apple'}"
   ]
  },
  {
   "cell_type": "code",
   "execution_count": 43,
   "id": "5910c34f-e553-45a9-be86-3403002c34c4",
   "metadata": {},
   "outputs": [
    {
     "data": {
      "text/plain": [
       "1"
      ]
     },
     "execution_count": 43,
     "metadata": {},
     "output_type": "execute_result"
    }
   ],
   "source": [
    "my_dictionary_2['key1']"
   ]
  },
  {
   "cell_type": "code",
   "execution_count": 47,
   "id": "bda6d850-7f95-4842-8dc9-b085506348f1",
   "metadata": {},
   "outputs": [
    {
     "data": {
      "text/plain": [
       "'apple'"
      ]
     },
     "execution_count": 47,
     "metadata": {},
     "output_type": "execute_result"
    }
   ],
   "source": [
    "my_dictionary_2 ['key3']"
   ]
  },
  {
   "cell_type": "code",
   "execution_count": 49,
   "id": "d644f676-e804-4c42-82e5-0c5c130a686f",
   "metadata": {},
   "outputs": [],
   "source": [
    "my_dictionary_3 = {'key1':10,20:30}"
   ]
  },
  {
   "cell_type": "code",
   "execution_count": 53,
   "id": "3e995c00-0b15-4434-be14-03eb5ba30e10",
   "metadata": {},
   "outputs": [
    {
     "data": {
      "text/plain": [
       "10"
      ]
     },
     "execution_count": 53,
     "metadata": {},
     "output_type": "execute_result"
    }
   ],
   "source": [
    "my_dictionary_3 ['key1']"
   ]
  },
  {
   "cell_type": "code",
   "execution_count": 55,
   "id": "23c85d9f-77de-48e4-ac91-c7cb19d21f63",
   "metadata": {},
   "outputs": [
    {
     "data": {
      "text/plain": [
       "30"
      ]
     },
     "execution_count": 55,
     "metadata": {},
     "output_type": "execute_result"
    }
   ],
   "source": [
    "my_dictionary_3 [20]"
   ]
  },
  {
   "cell_type": "code",
   "execution_count": 57,
   "id": "e8f2172d-b9a9-4936-acca-e0db5b7d188a",
   "metadata": {},
   "outputs": [],
   "source": [
    "my_dictionary_4 = {'key1':100,'key2':[10,20,30],'key3':{'a':5}}"
   ]
  },
  {
   "cell_type": "code",
   "execution_count": 59,
   "id": "2dc8e870-feb2-478b-96f6-95b920880894",
   "metadata": {},
   "outputs": [
    {
     "data": {
      "text/plain": [
       "{'key1': 100, 'key2': [10, 20, 30], 'key3': {'a': 5}}"
      ]
     },
     "execution_count": 59,
     "metadata": {},
     "output_type": "execute_result"
    }
   ],
   "source": [
    "my_dictionary_4 "
   ]
  },
  {
   "cell_type": "code",
   "execution_count": 61,
   "id": "4830f566-b6d8-4f60-8472-08102f55753d",
   "metadata": {},
   "outputs": [
    {
     "data": {
      "text/plain": [
       "dict_keys(['key1', 'key2', 'key3'])"
      ]
     },
     "execution_count": 61,
     "metadata": {},
     "output_type": "execute_result"
    }
   ],
   "source": [
    "my_dictionary_4.keys()"
   ]
  },
  {
   "cell_type": "code",
   "execution_count": 63,
   "id": "fee81146-857d-4add-9644-e91c09f6b739",
   "metadata": {},
   "outputs": [
    {
     "data": {
      "text/plain": [
       "dict_values([100, [10, 20, 30], {'a': 5}])"
      ]
     },
     "execution_count": 63,
     "metadata": {},
     "output_type": "execute_result"
    }
   ],
   "source": [
    "my_dictionary_4.values()"
   ]
  },
  {
   "cell_type": "code",
   "execution_count": 83,
   "id": "8d704381-ce21-4414-ba4f-85e699d8ea7a",
   "metadata": {},
   "outputs": [
    {
     "data": {
      "text/plain": [
       "5"
      ]
     },
     "execution_count": 83,
     "metadata": {},
     "output_type": "execute_result"
    }
   ],
   "source": [
    "my_dictionary_4 ['key3']['a']"
   ]
  },
  {
   "cell_type": "code",
   "execution_count": 85,
   "id": "543a5941-2a75-4afc-a40e-2084414eb742",
   "metadata": {},
   "outputs": [],
   "source": [
    "my_dictionary_5 = {'k1':1,'k2':2}"
   ]
  },
  {
   "cell_type": "code",
   "execution_count": 91,
   "id": "25eb6d16-1437-4305-b479-6765137d026c",
   "metadata": {},
   "outputs": [],
   "source": [
    "my_dictionary_5['k1'] = 3"
   ]
  },
  {
   "cell_type": "code",
   "execution_count": 93,
   "id": "0d88ced2-64ce-4bf8-bfcc-8b26d732a88f",
   "metadata": {},
   "outputs": [
    {
     "data": {
      "text/plain": [
       "{'k1': 3, 'k2': 2}"
      ]
     },
     "execution_count": 93,
     "metadata": {},
     "output_type": "execute_result"
    }
   ],
   "source": [
    "my_dictionary_5"
   ]
  },
  {
   "cell_type": "code",
   "execution_count": 95,
   "id": "463030ee-cbc8-4aca-874b-a3c82662b103",
   "metadata": {},
   "outputs": [],
   "source": [
    "my_dictionary_5 ['k3'] = 7"
   ]
  },
  {
   "cell_type": "code",
   "execution_count": 97,
   "id": "a1405a9a-89b4-40e2-95c1-0602bce4f191",
   "metadata": {},
   "outputs": [
    {
     "data": {
      "text/plain": [
       "{'k1': 3, 'k2': 2, 'k3': 7}"
      ]
     },
     "execution_count": 97,
     "metadata": {},
     "output_type": "execute_result"
    }
   ],
   "source": [
    "my_dictionary_5"
   ]
  },
  {
   "cell_type": "code",
   "execution_count": null,
   "id": "86b59778-a237-45dd-9583-eff7251d09b9",
   "metadata": {},
   "outputs": [],
   "source": []
  }
 ],
 "metadata": {
  "kernelspec": {
   "display_name": "Python 3 (ipykernel)",
   "language": "python",
   "name": "python3"
  },
  "language_info": {
   "codemirror_mode": {
    "name": "ipython",
    "version": 3
   },
   "file_extension": ".py",
   "mimetype": "text/x-python",
   "name": "python",
   "nbconvert_exporter": "python",
   "pygments_lexer": "ipython3",
   "version": "3.12.4"
  }
 },
 "nbformat": 4,
 "nbformat_minor": 5
}
